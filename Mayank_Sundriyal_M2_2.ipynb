{
  "nbformat": 4,
  "nbformat_minor": 0,
  "metadata": {
    "colab": {
      "provenance": [],
      "collapsed_sections": []
    },
    "kernelspec": {
      "name": "python3",
      "display_name": "Python 3"
    },
    "language_info": {
      "name": "python"
    }
  },
  "cells": [
    {
      "cell_type": "markdown",
      "metadata": {
        "id": "5jjJGvxLeAKp"
      },
      "source": [
        "\n",
        "\n",
        "Let's put all of your skills to work on a basic regression modeling notebook! \n",
        "\n",
        "[Download the CT Real Estate Transactions data here](https://drive.google.com/file/d/12m6UYYt0Osa3JLLfPZRLlBipRUS9ixGd/view?usp=sharing), drag onto your Google Drive, mount your Drive, then read the dataframe as `df`. Then...\n",
        "\n",
        "\n",
        "\n",
        "* Q1) Drop any rows where the `AssessedValue` is greater than 1 million USD\n",
        "* Q2) Drop any rows with missing values\n",
        "* Q3) Examine the head of the dataframe and check the column types using .info() to ensure that all numeric columns are appropriately converted as such\n",
        "* Q4) Count how many unique values are in the `Town` column. (hint: there should be 169 towns).\n",
        "* Q5) Make a new dataframe called `tmp` of dummy variables for each value in the `Town` column. (hint: this dataframe should have 127055 rows and 169 columns, one column for each town).\n",
        "* Q6) Make a new dataframe called `X` that subsets the `AssessedValue` and `ListYear` from `df`, and concatenate with your dataframe called `tmp`. Hint: This dataframe should have 171 columns.\n",
        "* Q7) Subset `SaleAmount` from `df` and assign to a variable called `y`.\n",
        "* Q8) Convert `X` and `y` to numpy arrays. Split your data in X_train, X_test, y_train, y_test using your 7 digit student ID as the random seed and an 80/20 split.\n",
        "* Q9) Fit a linear regression model. Calculate mean absolute error for each partition. \n",
        "* Q10) Make a scatterplot of actual vs. predicted values for each partition with nice axis labels, titles and markers.\n",
        "\n",
        "Please use nice subheaders/titles so that your code is easy to grade.\n",
        "\n"
      ]
    },
    {
      "cell_type": "code",
      "metadata": {
        "colab": {
          "base_uri": "https://localhost:8080/"
        },
        "id": "7DZG24ZzlMHP",
        "outputId": "c3784d98-d318-4df0-dcee-542f9b48db39"
      },
      "source": [
        "# here is a nice way to download as a shareable link - you just need to 'steal' the ID of the file and you can use gdown \n",
        "# after you run this, the file will be downloaded to your local runtime and your are ready to rock!\n",
        "# of course, local files on your runtime are deleted after you close the session, but this is OK. \n",
        "\n",
        "# https://drive.google.com/file/d/1AqU0lrw0DupBcG8poZPWN7UGFFoR4IUJ/view?usp=sharing\n",
        "!gdown --id 1AqU0lrw0DupBcG8poZPWN7UGFFoR4IUJ"
      ],
      "execution_count": null,
      "outputs": [
        {
          "output_type": "stream",
          "name": "stdout",
          "text": [
            "Downloading...\n",
            "From: https://drive.google.com/uc?id=1AqU0lrw0DupBcG8poZPWN7UGFFoR4IUJ\n",
            "To: /content/Real_Estate_Sales_2014-2016.csv\n",
            "100% 15.4M/15.4M [00:00<00:00, 49.1MB/s]\n"
          ]
        }
      ]
    },
    {
      "cell_type": "code",
      "metadata": {
        "colab": {
          "base_uri": "https://localhost:8080/"
        },
        "id": "8l-q675jd_o-",
        "outputId": "574e493e-d54c-4161-e414-26efd66f21fc"
      },
      "source": [
        "import pandas as pd\n",
        "import numpy as np\n",
        "import matplotlib.pyplot as plt\n",
        "\n",
        "from google.colab import drive #mounting the google drive\n",
        "drive.mount('/content/drive')\n"
      ],
      "execution_count": null,
      "outputs": [
        {
          "output_type": "stream",
          "name": "stdout",
          "text": [
            "Mounted at /content/drive\n"
          ]
        }
      ]
    },
    {
      "cell_type": "code",
      "source": [
        "df = pd.read_csv('/content/drive/MyDrive/OPIM 5512 DATA SCI WITH PYTHON/Real_Estate_Sales_2014-2016.csv')\n",
        "df.head()\n"
      ],
      "metadata": {
        "colab": {
          "base_uri": "https://localhost:8080/",
          "height": 206
        },
        "id": "SFDfXAQWWTi9",
        "outputId": "70d03643-78fc-4277-fdb6-e655d3dd893f"
      },
      "execution_count": null,
      "outputs": [
        {
          "output_type": "execute_result",
          "data": {
            "text/html": [
              "\n",
              "  <div id=\"df-2daf2c67-8af3-493d-baea-8b8d60740ecc\">\n",
              "    <div class=\"colab-df-container\">\n",
              "      <div>\n",
              "<style scoped>\n",
              "    .dataframe tbody tr th:only-of-type {\n",
              "        vertical-align: middle;\n",
              "    }\n",
              "\n",
              "    .dataframe tbody tr th {\n",
              "        vertical-align: top;\n",
              "    }\n",
              "\n",
              "    .dataframe thead th {\n",
              "        text-align: right;\n",
              "    }\n",
              "</style>\n",
              "<table border=\"1\" class=\"dataframe\">\n",
              "  <thead>\n",
              "    <tr style=\"text-align: right;\">\n",
              "      <th></th>\n",
              "      <th>ID</th>\n",
              "      <th>SerialNumber</th>\n",
              "      <th>ListYear</th>\n",
              "      <th>DateRecorded</th>\n",
              "      <th>Town</th>\n",
              "      <th>Address</th>\n",
              "      <th>AssessedValue</th>\n",
              "      <th>SaleAmount</th>\n",
              "      <th>SalesRatio</th>\n",
              "      <th>PropertyType</th>\n",
              "      <th>ResidentialType</th>\n",
              "    </tr>\n",
              "  </thead>\n",
              "  <tbody>\n",
              "    <tr>\n",
              "      <th>0</th>\n",
              "      <td>1</td>\n",
              "      <td>14046</td>\n",
              "      <td>2014</td>\n",
              "      <td>9/29/2015</td>\n",
              "      <td>Andover</td>\n",
              "      <td>US ROUTE 6  M 33 B 36 L 22</td>\n",
              "      <td>10720</td>\n",
              "      <td>75000.0</td>\n",
              "      <td>0.142933</td>\n",
              "      <td>Vacant Land</td>\n",
              "      <td>NaN</td>\n",
              "    </tr>\n",
              "    <tr>\n",
              "      <th>1</th>\n",
              "      <td>2</td>\n",
              "      <td>14011</td>\n",
              "      <td>2014</td>\n",
              "      <td>1/14/2015</td>\n",
              "      <td>Andover</td>\n",
              "      <td>1 JUROVATY LANE</td>\n",
              "      <td>153100</td>\n",
              "      <td>190000.0</td>\n",
              "      <td>0.805789</td>\n",
              "      <td>Residential</td>\n",
              "      <td>Single Family</td>\n",
              "    </tr>\n",
              "    <tr>\n",
              "      <th>2</th>\n",
              "      <td>3</td>\n",
              "      <td>15006</td>\n",
              "      <td>2015</td>\n",
              "      <td>11/30/2015</td>\n",
              "      <td>Andover</td>\n",
              "      <td>1 ROSE LANE</td>\n",
              "      <td>102900</td>\n",
              "      <td>50000.0</td>\n",
              "      <td>2.058000</td>\n",
              "      <td>Residential</td>\n",
              "      <td>Single Family</td>\n",
              "    </tr>\n",
              "    <tr>\n",
              "      <th>3</th>\n",
              "      <td>4</td>\n",
              "      <td>14044</td>\n",
              "      <td>2014</td>\n",
              "      <td>9/28/2015</td>\n",
              "      <td>Andover</td>\n",
              "      <td>10 PINE RIDGE  DR</td>\n",
              "      <td>108700</td>\n",
              "      <td>128368.0</td>\n",
              "      <td>0.846784</td>\n",
              "      <td>Residential</td>\n",
              "      <td>Single Family</td>\n",
              "    </tr>\n",
              "    <tr>\n",
              "      <th>4</th>\n",
              "      <td>5</td>\n",
              "      <td>14035</td>\n",
              "      <td>2014</td>\n",
              "      <td>8/10/2015</td>\n",
              "      <td>Andover</td>\n",
              "      <td>101 WALES RD</td>\n",
              "      <td>164000</td>\n",
              "      <td>230000.0</td>\n",
              "      <td>0.713043</td>\n",
              "      <td>Residential</td>\n",
              "      <td>Single Family</td>\n",
              "    </tr>\n",
              "  </tbody>\n",
              "</table>\n",
              "</div>\n",
              "      <button class=\"colab-df-convert\" onclick=\"convertToInteractive('df-2daf2c67-8af3-493d-baea-8b8d60740ecc')\"\n",
              "              title=\"Convert this dataframe to an interactive table.\"\n",
              "              style=\"display:none;\">\n",
              "        \n",
              "  <svg xmlns=\"http://www.w3.org/2000/svg\" height=\"24px\"viewBox=\"0 0 24 24\"\n",
              "       width=\"24px\">\n",
              "    <path d=\"M0 0h24v24H0V0z\" fill=\"none\"/>\n",
              "    <path d=\"M18.56 5.44l.94 2.06.94-2.06 2.06-.94-2.06-.94-.94-2.06-.94 2.06-2.06.94zm-11 1L8.5 8.5l.94-2.06 2.06-.94-2.06-.94L8.5 2.5l-.94 2.06-2.06.94zm10 10l.94 2.06.94-2.06 2.06-.94-2.06-.94-.94-2.06-.94 2.06-2.06.94z\"/><path d=\"M17.41 7.96l-1.37-1.37c-.4-.4-.92-.59-1.43-.59-.52 0-1.04.2-1.43.59L10.3 9.45l-7.72 7.72c-.78.78-.78 2.05 0 2.83L4 21.41c.39.39.9.59 1.41.59.51 0 1.02-.2 1.41-.59l7.78-7.78 2.81-2.81c.8-.78.8-2.07 0-2.86zM5.41 20L4 18.59l7.72-7.72 1.47 1.35L5.41 20z\"/>\n",
              "  </svg>\n",
              "      </button>\n",
              "      \n",
              "  <style>\n",
              "    .colab-df-container {\n",
              "      display:flex;\n",
              "      flex-wrap:wrap;\n",
              "      gap: 12px;\n",
              "    }\n",
              "\n",
              "    .colab-df-convert {\n",
              "      background-color: #E8F0FE;\n",
              "      border: none;\n",
              "      border-radius: 50%;\n",
              "      cursor: pointer;\n",
              "      display: none;\n",
              "      fill: #1967D2;\n",
              "      height: 32px;\n",
              "      padding: 0 0 0 0;\n",
              "      width: 32px;\n",
              "    }\n",
              "\n",
              "    .colab-df-convert:hover {\n",
              "      background-color: #E2EBFA;\n",
              "      box-shadow: 0px 1px 2px rgba(60, 64, 67, 0.3), 0px 1px 3px 1px rgba(60, 64, 67, 0.15);\n",
              "      fill: #174EA6;\n",
              "    }\n",
              "\n",
              "    [theme=dark] .colab-df-convert {\n",
              "      background-color: #3B4455;\n",
              "      fill: #D2E3FC;\n",
              "    }\n",
              "\n",
              "    [theme=dark] .colab-df-convert:hover {\n",
              "      background-color: #434B5C;\n",
              "      box-shadow: 0px 1px 3px 1px rgba(0, 0, 0, 0.15);\n",
              "      filter: drop-shadow(0px 1px 2px rgba(0, 0, 0, 0.3));\n",
              "      fill: #FFFFFF;\n",
              "    }\n",
              "  </style>\n",
              "\n",
              "      <script>\n",
              "        const buttonEl =\n",
              "          document.querySelector('#df-2daf2c67-8af3-493d-baea-8b8d60740ecc button.colab-df-convert');\n",
              "        buttonEl.style.display =\n",
              "          google.colab.kernel.accessAllowed ? 'block' : 'none';\n",
              "\n",
              "        async function convertToInteractive(key) {\n",
              "          const element = document.querySelector('#df-2daf2c67-8af3-493d-baea-8b8d60740ecc');\n",
              "          const dataTable =\n",
              "            await google.colab.kernel.invokeFunction('convertToInteractive',\n",
              "                                                     [key], {});\n",
              "          if (!dataTable) return;\n",
              "\n",
              "          const docLinkHtml = 'Like what you see? Visit the ' +\n",
              "            '<a target=\"_blank\" href=https://colab.research.google.com/notebooks/data_table.ipynb>data table notebook</a>'\n",
              "            + ' to learn more about interactive tables.';\n",
              "          element.innerHTML = '';\n",
              "          dataTable['output_type'] = 'display_data';\n",
              "          await google.colab.output.renderOutput(dataTable, element);\n",
              "          const docLink = document.createElement('div');\n",
              "          docLink.innerHTML = docLinkHtml;\n",
              "          element.appendChild(docLink);\n",
              "        }\n",
              "      </script>\n",
              "    </div>\n",
              "  </div>\n",
              "  "
            ],
            "text/plain": [
              "   ID  SerialNumber  ListYear  ... SalesRatio PropertyType ResidentialType\n",
              "0   1         14046      2014  ...   0.142933  Vacant Land             NaN\n",
              "1   2         14011      2014  ...   0.805789  Residential   Single Family\n",
              "2   3         15006      2015  ...   2.058000  Residential   Single Family\n",
              "3   4         14044      2014  ...   0.846784  Residential   Single Family\n",
              "4   5         14035      2014  ...   0.713043  Residential   Single Family\n",
              "\n",
              "[5 rows x 11 columns]"
            ]
          },
          "metadata": {},
          "execution_count": 3
        }
      ]
    },
    {
      "cell_type": "code",
      "source": [],
      "metadata": {
        "id": "uoYTJnuP9bRU"
      },
      "execution_count": null,
      "outputs": []
    },
    {
      "cell_type": "markdown",
      "source": [
        "# Ans1"
      ],
      "metadata": {
        "id": "kRr_a0TnWjVn"
      }
    },
    {
      "cell_type": "code",
      "source": [
        "#Q1) Drop any rows where the AssessedValue is greater than 1 million USD\n",
        "\n",
        "\n",
        "df.drop(df[df['AssessedValue']>1000000].index,inplace=True) #droping the rows where assesedvalue is greater than 1 million usd.\n",
        "\n",
        "df[df['AssessedValue']>1000000] #checking if we have solved probelm correctly"
      ],
      "metadata": {
        "id": "qvP6OEVOKm6-",
        "colab": {
          "base_uri": "https://localhost:8080/",
          "height": 49
        },
        "outputId": "13f5b4f4-8886-4f48-c891-b61cbb6f4f18"
      },
      "execution_count": null,
      "outputs": [
        {
          "output_type": "execute_result",
          "data": {
            "text/html": [
              "\n",
              "  <div id=\"df-3017f97f-5e54-4a54-974d-932d210fb3fb\">\n",
              "    <div class=\"colab-df-container\">\n",
              "      <div>\n",
              "<style scoped>\n",
              "    .dataframe tbody tr th:only-of-type {\n",
              "        vertical-align: middle;\n",
              "    }\n",
              "\n",
              "    .dataframe tbody tr th {\n",
              "        vertical-align: top;\n",
              "    }\n",
              "\n",
              "    .dataframe thead th {\n",
              "        text-align: right;\n",
              "    }\n",
              "</style>\n",
              "<table border=\"1\" class=\"dataframe\">\n",
              "  <thead>\n",
              "    <tr style=\"text-align: right;\">\n",
              "      <th></th>\n",
              "      <th>ID</th>\n",
              "      <th>SerialNumber</th>\n",
              "      <th>ListYear</th>\n",
              "      <th>DateRecorded</th>\n",
              "      <th>Town</th>\n",
              "      <th>Address</th>\n",
              "      <th>AssessedValue</th>\n",
              "      <th>SaleAmount</th>\n",
              "      <th>SalesRatio</th>\n",
              "      <th>PropertyType</th>\n",
              "      <th>ResidentialType</th>\n",
              "    </tr>\n",
              "  </thead>\n",
              "  <tbody>\n",
              "  </tbody>\n",
              "</table>\n",
              "</div>\n",
              "      <button class=\"colab-df-convert\" onclick=\"convertToInteractive('df-3017f97f-5e54-4a54-974d-932d210fb3fb')\"\n",
              "              title=\"Convert this dataframe to an interactive table.\"\n",
              "              style=\"display:none;\">\n",
              "        \n",
              "  <svg xmlns=\"http://www.w3.org/2000/svg\" height=\"24px\"viewBox=\"0 0 24 24\"\n",
              "       width=\"24px\">\n",
              "    <path d=\"M0 0h24v24H0V0z\" fill=\"none\"/>\n",
              "    <path d=\"M18.56 5.44l.94 2.06.94-2.06 2.06-.94-2.06-.94-.94-2.06-.94 2.06-2.06.94zm-11 1L8.5 8.5l.94-2.06 2.06-.94-2.06-.94L8.5 2.5l-.94 2.06-2.06.94zm10 10l.94 2.06.94-2.06 2.06-.94-2.06-.94-.94-2.06-.94 2.06-2.06.94z\"/><path d=\"M17.41 7.96l-1.37-1.37c-.4-.4-.92-.59-1.43-.59-.52 0-1.04.2-1.43.59L10.3 9.45l-7.72 7.72c-.78.78-.78 2.05 0 2.83L4 21.41c.39.39.9.59 1.41.59.51 0 1.02-.2 1.41-.59l7.78-7.78 2.81-2.81c.8-.78.8-2.07 0-2.86zM5.41 20L4 18.59l7.72-7.72 1.47 1.35L5.41 20z\"/>\n",
              "  </svg>\n",
              "      </button>\n",
              "      \n",
              "  <style>\n",
              "    .colab-df-container {\n",
              "      display:flex;\n",
              "      flex-wrap:wrap;\n",
              "      gap: 12px;\n",
              "    }\n",
              "\n",
              "    .colab-df-convert {\n",
              "      background-color: #E8F0FE;\n",
              "      border: none;\n",
              "      border-radius: 50%;\n",
              "      cursor: pointer;\n",
              "      display: none;\n",
              "      fill: #1967D2;\n",
              "      height: 32px;\n",
              "      padding: 0 0 0 0;\n",
              "      width: 32px;\n",
              "    }\n",
              "\n",
              "    .colab-df-convert:hover {\n",
              "      background-color: #E2EBFA;\n",
              "      box-shadow: 0px 1px 2px rgba(60, 64, 67, 0.3), 0px 1px 3px 1px rgba(60, 64, 67, 0.15);\n",
              "      fill: #174EA6;\n",
              "    }\n",
              "\n",
              "    [theme=dark] .colab-df-convert {\n",
              "      background-color: #3B4455;\n",
              "      fill: #D2E3FC;\n",
              "    }\n",
              "\n",
              "    [theme=dark] .colab-df-convert:hover {\n",
              "      background-color: #434B5C;\n",
              "      box-shadow: 0px 1px 3px 1px rgba(0, 0, 0, 0.15);\n",
              "      filter: drop-shadow(0px 1px 2px rgba(0, 0, 0, 0.3));\n",
              "      fill: #FFFFFF;\n",
              "    }\n",
              "  </style>\n",
              "\n",
              "      <script>\n",
              "        const buttonEl =\n",
              "          document.querySelector('#df-3017f97f-5e54-4a54-974d-932d210fb3fb button.colab-df-convert');\n",
              "        buttonEl.style.display =\n",
              "          google.colab.kernel.accessAllowed ? 'block' : 'none';\n",
              "\n",
              "        async function convertToInteractive(key) {\n",
              "          const element = document.querySelector('#df-3017f97f-5e54-4a54-974d-932d210fb3fb');\n",
              "          const dataTable =\n",
              "            await google.colab.kernel.invokeFunction('convertToInteractive',\n",
              "                                                     [key], {});\n",
              "          if (!dataTable) return;\n",
              "\n",
              "          const docLinkHtml = 'Like what you see? Visit the ' +\n",
              "            '<a target=\"_blank\" href=https://colab.research.google.com/notebooks/data_table.ipynb>data table notebook</a>'\n",
              "            + ' to learn more about interactive tables.';\n",
              "          element.innerHTML = '';\n",
              "          dataTable['output_type'] = 'display_data';\n",
              "          await google.colab.output.renderOutput(dataTable, element);\n",
              "          const docLink = document.createElement('div');\n",
              "          docLink.innerHTML = docLinkHtml;\n",
              "          element.appendChild(docLink);\n",
              "        }\n",
              "      </script>\n",
              "    </div>\n",
              "  </div>\n",
              "  "
            ],
            "text/plain": [
              "Empty DataFrame\n",
              "Columns: [ID, SerialNumber, ListYear, DateRecorded, Town, Address, AssessedValue, SaleAmount, SalesRatio, PropertyType, ResidentialType]\n",
              "Index: []"
            ]
          },
          "metadata": {},
          "execution_count": 4
        }
      ]
    },
    {
      "cell_type": "code",
      "source": [
        "df.isnull().sum() #checking the null values"
      ],
      "metadata": {
        "colab": {
          "base_uri": "https://localhost:8080/"
        },
        "id": "vjwJEQFZ5POK",
        "outputId": "2beb6245-5b07-45c8-c5e1-5b2b2e8a4254"
      },
      "execution_count": null,
      "outputs": [
        {
          "output_type": "execute_result",
          "data": {
            "text/plain": [
              "ID                     0\n",
              "SerialNumber           0\n",
              "ListYear               0\n",
              "DateRecorded           5\n",
              "Town                   0\n",
              "Address                2\n",
              "AssessedValue          0\n",
              "SaleAmount          5022\n",
              "SalesRatio             0\n",
              "PropertyType           0\n",
              "ResidentialType    10002\n",
              "dtype: int64"
            ]
          },
          "metadata": {},
          "execution_count": 5
        }
      ]
    },
    {
      "cell_type": "markdown",
      "source": [
        "#Ans 2\n"
      ],
      "metadata": {
        "id": "e8QmH6QVX97t"
      }
    },
    {
      "cell_type": "code",
      "source": [
        "#  Drop any rows with missing values\n",
        "df.isnull().sum() #checking missing values\n",
        "df.dropna(axis = 0, how ='any', thresh = None, subset = None, inplace=True)\n",
        "df.isnull().sum()\n",
        "df.isnull().sum()"
      ],
      "metadata": {
        "colab": {
          "base_uri": "https://localhost:8080/"
        },
        "id": "L_0cLLNeYDY-",
        "outputId": "520dcfbd-7841-40f1-e05b-12ce3353e656"
      },
      "execution_count": null,
      "outputs": [
        {
          "output_type": "execute_result",
          "data": {
            "text/plain": [
              "ID                 0\n",
              "SerialNumber       0\n",
              "ListYear           0\n",
              "DateRecorded       0\n",
              "Town               0\n",
              "Address            0\n",
              "AssessedValue      0\n",
              "SaleAmount         0\n",
              "SalesRatio         0\n",
              "PropertyType       0\n",
              "ResidentialType    0\n",
              "dtype: int64"
            ]
          },
          "metadata": {},
          "execution_count": 6
        }
      ]
    },
    {
      "cell_type": "markdown",
      "source": [
        "# Ans3"
      ],
      "metadata": {
        "id": "iEaxef7w5kUx"
      }
    },
    {
      "cell_type": "code",
      "source": [
        "# Examine the head of the dataframe and check the column types using .info() to ensure that all numeric columns are appropriately converted as such\n",
        "\n",
        "df.info() # we can see that DateRecorded is object type so we have to change it to date time\n",
        "\n",
        "df['DateRecorded']=pd.to_datetime(df['DateRecorded'])\n"
      ],
      "metadata": {
        "colab": {
          "base_uri": "https://localhost:8080/"
        },
        "id": "WRY-CLNR5ukB",
        "outputId": "8f0654d0-a440-4736-efd5-6248f45457c5"
      },
      "execution_count": null,
      "outputs": [
        {
          "output_type": "stream",
          "name": "stdout",
          "text": [
            "<class 'pandas.core.frame.DataFrame'>\n",
            "Int64Index: 127055 entries, 1 to 145941\n",
            "Data columns (total 11 columns):\n",
            " #   Column           Non-Null Count   Dtype  \n",
            "---  ------           --------------   -----  \n",
            " 0   ID               127055 non-null  int64  \n",
            " 1   SerialNumber     127055 non-null  int64  \n",
            " 2   ListYear         127055 non-null  int64  \n",
            " 3   DateRecorded     127055 non-null  object \n",
            " 4   Town             127055 non-null  object \n",
            " 5   Address          127055 non-null  object \n",
            " 6   AssessedValue    127055 non-null  int64  \n",
            " 7   SaleAmount       127055 non-null  float64\n",
            " 8   SalesRatio       127055 non-null  float64\n",
            " 9   PropertyType     127055 non-null  object \n",
            " 10  ResidentialType  127055 non-null  object \n",
            "dtypes: float64(2), int64(4), object(5)\n",
            "memory usage: 11.6+ MB\n"
          ]
        }
      ]
    },
    {
      "cell_type": "code",
      "source": [
        "df.info() # DateRecorded  is changed to datetime"
      ],
      "metadata": {
        "colab": {
          "base_uri": "https://localhost:8080/"
        },
        "id": "yPPiuIZy9m7d",
        "outputId": "7dd8de2d-433a-4662-a2f0-980fc63f0444"
      },
      "execution_count": null,
      "outputs": [
        {
          "output_type": "stream",
          "name": "stdout",
          "text": [
            "<class 'pandas.core.frame.DataFrame'>\n",
            "Int64Index: 127055 entries, 1 to 145941\n",
            "Data columns (total 11 columns):\n",
            " #   Column           Non-Null Count   Dtype         \n",
            "---  ------           --------------   -----         \n",
            " 0   ID               127055 non-null  int64         \n",
            " 1   SerialNumber     127055 non-null  int64         \n",
            " 2   ListYear         127055 non-null  int64         \n",
            " 3   DateRecorded     127055 non-null  datetime64[ns]\n",
            " 4   Town             127055 non-null  object        \n",
            " 5   Address          127055 non-null  object        \n",
            " 6   AssessedValue    127055 non-null  int64         \n",
            " 7   SaleAmount       127055 non-null  float64       \n",
            " 8   SalesRatio       127055 non-null  float64       \n",
            " 9   PropertyType     127055 non-null  object        \n",
            " 10  ResidentialType  127055 non-null  object        \n",
            "dtypes: datetime64[ns](1), float64(2), int64(4), object(4)\n",
            "memory usage: 11.6+ MB\n"
          ]
        }
      ]
    },
    {
      "cell_type": "markdown",
      "source": [
        "# Ans 4"
      ],
      "metadata": {
        "id": "_PTDHUHK9tah"
      }
    },
    {
      "cell_type": "code",
      "source": [
        "# how many unique values are in the Town column\n",
        "df['Town'].nunique() #checked the number of unique values in town column\n",
        "\n",
        "print(\"Number of unique values in Town columns are \",df['Town'].nunique())"
      ],
      "metadata": {
        "colab": {
          "base_uri": "https://localhost:8080/"
        },
        "id": "K830hecI9v9S",
        "outputId": "f1424dfa-8412-4116-846e-f8f25f2f574b"
      },
      "execution_count": null,
      "outputs": [
        {
          "output_type": "stream",
          "name": "stdout",
          "text": [
            "Number of unique values in Town columns are  169\n"
          ]
        }
      ]
    },
    {
      "cell_type": "markdown",
      "source": [
        "# Ans 5"
      ],
      "metadata": {
        "id": "ixWSG238-hJL"
      }
    },
    {
      "cell_type": "code",
      "source": [
        "#Q Make a new dataframe called tmp of dummy variables for each value in the Town column. (hint: this dataframe should have 127055 rows and 169 columns, one column for each town)."
      ],
      "metadata": {
        "id": "L8qZn9NN-iwb"
      },
      "execution_count": null,
      "outputs": []
    },
    {
      "cell_type": "code",
      "source": [
        "temp=pd.get_dummies(df['Town'], prefix=None, prefix_sep='') #made a new dataframe with Town column\n",
        "print(\"the shape of temp data frame is \",temp.shape)"
      ],
      "metadata": {
        "colab": {
          "base_uri": "https://localhost:8080/"
        },
        "id": "jZbZIIRp-rDq",
        "outputId": "dbacd87c-15ae-4be3-9fb2-60abc7640144"
      },
      "execution_count": null,
      "outputs": [
        {
          "output_type": "stream",
          "name": "stdout",
          "text": [
            "the shape of temp data frame is  (127055, 169)\n"
          ]
        }
      ]
    },
    {
      "cell_type": "markdown",
      "source": [
        "# Ans 6"
      ],
      "metadata": {
        "id": "Kund2uku_p-E"
      }
    },
    {
      "cell_type": "code",
      "source": [
        "#Make a new dataframe called X that subsets the AssessedValue and ListYear from df, and concatenate with your dataframe called tmp. Hint: This dataframe should have 171 columns."
      ],
      "metadata": {
        "id": "9t_yaoU7_seg"
      },
      "execution_count": null,
      "outputs": []
    },
    {
      "cell_type": "code",
      "source": [
        "#bigdata = pd.concat([data1, data2], ignore_index=True, sort=False)\n",
        "\n",
        "X = pd.DataFrame(df,columns = ['AssessedValue','ListYear'])\n",
        "\n",
        "X = pd.concat([temp,X],axis=1)\n",
        "\n",
        "print(\"The shape of the new data frame which we get from concatenating X and temp is \",X.shape)\n"
      ],
      "metadata": {
        "colab": {
          "base_uri": "https://localhost:8080/"
        },
        "id": "uJHUUOgR_15W",
        "outputId": "36321a6d-5381-4ec7-e66d-e803310f79da"
      },
      "execution_count": null,
      "outputs": [
        {
          "output_type": "stream",
          "name": "stdout",
          "text": [
            "The shape of the new data frame which we get from concatenating X and temp is  (127055, 171)\n"
          ]
        }
      ]
    },
    {
      "cell_type": "markdown",
      "source": [
        "# Ans 7"
      ],
      "metadata": {
        "id": "PHSO00BUA5U2"
      }
    },
    {
      "cell_type": "code",
      "source": [
        "#Q7) Subset SaleAmount from df and assign to a variable called y.\n",
        "\n",
        "y=df['SaleAmount']\n",
        "y.shape"
      ],
      "metadata": {
        "colab": {
          "base_uri": "https://localhost:8080/"
        },
        "id": "mvudJwC2A7MZ",
        "outputId": "c71b2a69-78ea-46c6-c048-7001c9727ddc"
      },
      "execution_count": null,
      "outputs": [
        {
          "output_type": "execute_result",
          "data": {
            "text/plain": [
              "(127055,)"
            ]
          },
          "metadata": {},
          "execution_count": 14
        }
      ]
    },
    {
      "cell_type": "markdown",
      "source": [
        "# Ans 8"
      ],
      "metadata": {
        "id": "e8tU1ZOLCTWH"
      }
    },
    {
      "cell_type": "code",
      "source": [
        "# Convert X and y to numpy arrays. Split your data in X_train, X_test, y_train, y_test using your 7 digit student ID as the random seed and an 80/20 split."
      ],
      "metadata": {
        "id": "MJnYMR_YCVNV"
      },
      "execution_count": null,
      "outputs": []
    },
    {
      "cell_type": "code",
      "source": [
        "X=np.array(X) #converted X to numpy array\n",
        "Y=np.array(y) #converted y to numpy array\n",
        "\n"
      ],
      "metadata": {
        "id": "PvWGwQj5HeBK"
      },
      "execution_count": null,
      "outputs": []
    },
    {
      "cell_type": "code",
      "source": [
        "# sklearn functions\n",
        "from sklearn.model_selection import train_test_split\n",
        "from sklearn.preprocessing import StandardScaler\n",
        "from sklearn.preprocessing import MinMaxScaler"
      ],
      "metadata": {
        "id": "R5dIdzE0ISN3"
      },
      "execution_count": null,
      "outputs": []
    },
    {
      "cell_type": "code",
      "source": [
        "# split into train and test partitions\n",
        "X_train, X_test, y_train, y_test = train_test_split(X, Y,\n",
        "                                                    test_size = 0.2,\n",
        "                                                    shuffle = True,\n",
        "                                                    random_state = 2965456)"
      ],
      "metadata": {
        "id": "m8TS4uGpIMQ0"
      },
      "execution_count": null,
      "outputs": []
    },
    {
      "cell_type": "markdown",
      "source": [
        "# Ans 9"
      ],
      "metadata": {
        "id": "RSu-udvCLgne"
      }
    },
    {
      "cell_type": "code",
      "source": [
        "#Q9) Fit a linear regression model. Calculate mean absolute error for each partition.\n",
        "scaler = MinMaxScaler() # import the scaler\n",
        "X_train = scaler.fit_transform(X_train) \n",
        "X_test = scaler.transform(X_test) "
      ],
      "metadata": {
        "id": "73ZqebNOLmtR"
      },
      "execution_count": null,
      "outputs": []
    },
    {
      "cell_type": "code",
      "source": [
        "# converting  all to numpy arrays\n",
        "X_train = np.array(X_train)\n",
        "X_test = np.array(X_test)\n",
        "y_train = np.array(y_train)\n",
        "y_test = np.array(y_test)"
      ],
      "metadata": {
        "id": "H7iWUMX-L-9G"
      },
      "execution_count": null,
      "outputs": []
    },
    {
      "cell_type": "code",
      "source": [
        "from sklearn.linear_model import LinearRegression\n",
        "from sklearn.metrics import mean_absolute_error"
      ],
      "metadata": {
        "id": "29lICrydMOj0"
      },
      "execution_count": null,
      "outputs": []
    },
    {
      "cell_type": "code",
      "source": [
        "\n",
        "LR = LinearRegression()\n",
        "# fit the model - one line of code - LR is now a 'model object'\n",
        "LR = LR.fit(X_train, y_train) # order matters here! don't reverse it!"
      ],
      "metadata": {
        "id": "8G_7AYRBMGlx"
      },
      "execution_count": null,
      "outputs": []
    },
    {
      "cell_type": "code",
      "source": [
        "# storing the predictions\n",
        "train_preds = LR.predict(X_train) \n",
        "test_preds = LR.predict(X_test)  "
      ],
      "metadata": {
        "id": "bX1qrJ0WMXgL"
      },
      "execution_count": null,
      "outputs": []
    },
    {
      "cell_type": "code",
      "source": [
        "#calculating mean absolute error for each prediction\n",
        "trainMAE = mean_absolute_error(y_train, train_preds)\n",
        "print(\"This is train Mean absolute error:\", trainMAE) # train\n",
        "testMAE = mean_absolute_error(y_test, test_preds)\n",
        "print(\"This is test mean absolute error :\", testMAE) # test"
      ],
      "metadata": {
        "colab": {
          "base_uri": "https://localhost:8080/"
        },
        "id": "72SZuL6hMh_n",
        "outputId": "d9dc007d-72cc-482e-8ad4-fb7e7d607444"
      },
      "execution_count": null,
      "outputs": [
        {
          "output_type": "stream",
          "name": "stdout",
          "text": [
            "This is train Mean absolute error: 94343.04871713775\n",
            "This is test mean absolute error : 88567.94010097189\n"
          ]
        }
      ]
    },
    {
      "cell_type": "markdown",
      "source": [
        "# Ans 10"
      ],
      "metadata": {
        "id": "AFD3JKo0N3_h"
      }
    },
    {
      "cell_type": "code",
      "source": [
        "#Q10) Make a scatterplot of actual vs. predicted values for each partition with nice axis labels, titles and markers."
      ],
      "metadata": {
        "id": "yylt7jxzN6NV"
      },
      "execution_count": null,
      "outputs": []
    },
    {
      "cell_type": "code",
      "source": [
        "#ploting a scatter plot for training data\n",
        "plt.figure(figsize=(8, 8))\n",
        "plt.scatter(x=y_train, y=train_preds)\n",
        "plt.plot([0, 10**7], [0, 10**7], '--k') # 45 degree line\n",
        "plt.axis('tight')\n",
        "plt.xlabel('Actual Sales amount')\n",
        "plt.ylabel('Predicted Sales Amount')\n",
        "plt.suptitle('Train Results')\n",
        "plt.show()"
      ],
      "metadata": {
        "colab": {
          "base_uri": "https://localhost:8080/",
          "height": 554
        },
        "id": "aq5Qgnq8N-67",
        "outputId": "e0ca483c-365b-479d-af23-6e6dc7375681"
      },
      "execution_count": null,
      "outputs": [
        {
          "output_type": "display_data",
          "data": {
            "image/png": "[encoded data removed]",
            "text/plain": [
              "<Figure size 576x576 with 1 Axes>"
            ]
          },
          "metadata": {
            "needs_background": "light"
          }
        }
      ]
    },
    {
      "cell_type": "code",
      "source": [
        "#plotting the scatter plot for test data\n",
        "plt.figure(figsize=(8, 8))\n",
        "plt.scatter(x=y_test, y=test_preds)\n",
        "plt.plot([0, 10**7], [0, 10**7], '--k') # 45 degree line\n",
        "plt.axis('tight')\n",
        "plt.xlabel('Actual SalesAmount')\n",
        "plt.ylabel('Predicted SalesAmount')\n",
        "plt.suptitle('Test Results')\n",
        "plt.show()"
      ],
      "metadata": {
        "colab": {
          "base_uri": "https://localhost:8080/",
          "height": 554
        },
        "id": "ucDB9s5NPcon",
        "outputId": "bc65bfc9-d197-4b39-ae50-a312f75cc37a"
      },
      "execution_count": null,
      "outputs": [
        {
          "output_type": "display_data",
          "data": {
            "image/png": "[encoded data removed]",
            "text/plain": [
              "<Figure size 576x576 with 1 Axes>"
            ]
          },
          "metadata": {
            "needs_background": "light"
          }
        }
      ]
    }
  ]
}
{
  "nbformat": 4,
  "nbformat_minor": 0,
  "metadata": {
    "colab": {
      "provenance": [],
      "collapsed_sections": []
    },
    "kernelspec": {
      "name": "python3",
      "display_name": "Python 3"
    }
  },
  "cells": [
    {
      "cell_type": "markdown",
      "metadata": {
        "id": "zehws9Rhsk2m"
      },
      "source": [
        "# General Modeling Framework: Simple\n",
        "## Logistic Regression with Boston Housing\n",
        "]\n",
        "\n",
        "-------------------------------------------------\n",
        "\n",
        "This is a bare-bones script to get you up and running with classification. For a given dataset, you should be able to code relevant content in the cells below. \n",
        "\n",
        "Note that this 'recipe' is similar for a regression problem - just need to use a different model and different error metrics."
      ]
    },
    {
      "cell_type": "markdown",
      "metadata": {
        "id": "xhEQ0UwesvAB"
      },
      "source": [
        "## Getting started\n",
        "Import modules, mount Drive, read in the data, check data types and missing values. You may also do some light EDA prior to modeling.\n",
        "\n",
        "Notice how we are using the same functions over and over again... it really is like following a recipe.\n"
      ]
    },
    {
      "cell_type": "code",
      "metadata": {
        "id": "QqeDxYgSs2OG"
      },
      "source": [
        "# import modules we need for EDA and wrangling\n",
        "import pandas as pd\n",
        "import numpy as np\n",
        "import matplotlib.pyplot as plt\n",
        "import seaborn as sns\n",
        "\n",
        "# import other functions we'll need for classification modeling\n",
        "from sklearn.preprocessing import  MinMaxScaler\n",
        "from sklearn.model_selection import train_test_split\n",
        "from sklearn.linear_model import LogisticRegression # logistic\n",
        "\n",
        "# classification error metrics\n",
        "from sklearn.metrics import classification_report\n",
        "from sklearn.metrics import confusion_matrix"
      ],
      "execution_count": null,
      "outputs": []
    },
    {
      "cell_type": "code",
      "metadata": {
        "id": "W8O70GwnxfXY",
        "colab": {
          "base_uri": "https://localhost:8080/"
        },
        "outputId": "7e0214bb-1882-4bac-c486-22cd1cf80d31"
      },
      "source": [
        "# mount your google drive\n",
        "from google.colab import drive\n",
        "drive.mount('/content/drive')"
      ],
      "execution_count": null,
      "outputs": [
        {
          "output_type": "stream",
          "text": [
            "Mounted at /content/drive\n"
          ],
          "name": "stdout"
        }
      ]
    },
    {
      "cell_type": "code",
      "metadata": {
        "id": "zrD3Xocnxv1c"
      },
      "source": [
        "# read in some data\n",
        "df = pd.read_csv('/content/drive/My Drive/Summer 2020/Week 3 Materials: Stats and Regression Modeling/Data/Boston Housing.csv')"
      ],
      "execution_count": null,
      "outputs": []
    },
    {
      "cell_type": "code",
      "metadata": {
        "id": "e7PnTKNZyHfm",
        "colab": {
          "base_uri": "https://localhost:8080/",
          "height": 653
        },
        "outputId": "3f01b368-c7e7-4d95-d38d-853da312f62e"
      },
      "source": [
        "# data type, shape and columns\n",
        "\n",
        "print(\"This is the shape :\\n\", df.shape, '\\n') # escape characters are fun! \\n adds a return line\n",
        "print(\"These are the column names: \\n\", df.columns, '\\n') # helps keep things nice and clean\n",
        "print(\"These are the data types: \\n\", df.dtypes)\n",
        "print(\"\\nThis is the head:\") # see how I can pop that \\n anywhere?\n",
        "df.head()   # also note how much stuff I have pasted in ONE CELL...\n",
        "            # now you are cooking with gas!\n",
        "\n",
        "# the head confirms to use that the valid column is some type of time/date stamp\n",
        "# we need to stop what we are doing and take care of this NOW!"
      ],
      "execution_count": null,
      "outputs": [
        {
          "output_type": "stream",
          "text": [
            "This is the shape :\n",
            " (506, 14) \n",
            "\n",
            "These are the column names: \n",
            " Index(['crim', 'zn', 'indus', 'chas', 'nox', 'rm', 'age', 'dis', 'rad', 'tax',\n",
            "       'ptratio', 'b', 'lstat', 'medv'],\n",
            "      dtype='object') \n",
            "\n",
            "These are the data types: \n",
            " crim       float64\n",
            "zn         float64\n",
            "indus      float64\n",
            "chas         int64\n",
            "nox        float64\n",
            "rm         float64\n",
            "age        float64\n",
            "dis        float64\n",
            "rad          int64\n",
            "tax          int64\n",
            "ptratio    float64\n",
            "b          float64\n",
            "lstat      float64\n",
            "medv       float64\n",
            "dtype: object\n",
            "\n",
            "This is the head:\n"
          ],
          "name": "stdout"
        },
        {
          "output_type": "execute_result",
          "data": {
            "text/html": [
              "<div>\n",
              "<style scoped>\n",
              "    .dataframe tbody tr th:only-of-type {\n",
              "        vertical-align: middle;\n",
              "    }\n",
              "\n",
              "    .dataframe tbody tr th {\n",
              "        vertical-align: top;\n",
              "    }\n",
              "\n",
              "    .dataframe thead th {\n",
              "        text-align: right;\n",
              "    }\n",
              "</style>\n",
              "<table border=\"1\" class=\"dataframe\">\n",
              "  <thead>\n",
              "    <tr style=\"text-align: right;\">\n",
              "      <th></th>\n",
              "      <th>crim</th>\n",
              "      <th>zn</th>\n",
              "      <th>indus</th>\n",
              "      <th>chas</th>\n",
              "      <th>nox</th>\n",
              "      <th>rm</th>\n",
              "      <th>age</th>\n",
              "      <th>dis</th>\n",
              "      <th>rad</th>\n",
              "      <th>tax</th>\n",
              "      <th>ptratio</th>\n",
              "      <th>b</th>\n",
              "      <th>lstat</th>\n",
              "      <th>medv</th>\n",
              "    </tr>\n",
              "  </thead>\n",
              "  <tbody>\n",
              "    <tr>\n",
              "      <th>0</th>\n",
              "      <td>0.00632</td>\n",
              "      <td>18.0</td>\n",
              "      <td>2.31</td>\n",
              "      <td>0</td>\n",
              "      <td>0.538</td>\n",
              "      <td>6.575</td>\n",
              "      <td>65.2</td>\n",
              "      <td>4.0900</td>\n",
              "      <td>1</td>\n",
              "      <td>296</td>\n",
              "      <td>15.3</td>\n",
              "      <td>396.90</td>\n",
              "      <td>4.98</td>\n",
              "      <td>24.0</td>\n",
              "    </tr>\n",
              "    <tr>\n",
              "      <th>1</th>\n",
              "      <td>0.02731</td>\n",
              "      <td>0.0</td>\n",
              "      <td>7.07</td>\n",
              "      <td>0</td>\n",
              "      <td>0.469</td>\n",
              "      <td>6.421</td>\n",
              "      <td>78.9</td>\n",
              "      <td>4.9671</td>\n",
              "      <td>2</td>\n",
              "      <td>242</td>\n",
              "      <td>17.8</td>\n",
              "      <td>396.90</td>\n",
              "      <td>9.14</td>\n",
              "      <td>21.6</td>\n",
              "    </tr>\n",
              "    <tr>\n",
              "      <th>2</th>\n",
              "      <td>0.02729</td>\n",
              "      <td>0.0</td>\n",
              "      <td>7.07</td>\n",
              "      <td>0</td>\n",
              "      <td>0.469</td>\n",
              "      <td>7.185</td>\n",
              "      <td>61.1</td>\n",
              "      <td>4.9671</td>\n",
              "      <td>2</td>\n",
              "      <td>242</td>\n",
              "      <td>17.8</td>\n",
              "      <td>392.83</td>\n",
              "      <td>4.03</td>\n",
              "      <td>34.7</td>\n",
              "    </tr>\n",
              "    <tr>\n",
              "      <th>3</th>\n",
              "      <td>0.03237</td>\n",
              "      <td>0.0</td>\n",
              "      <td>2.18</td>\n",
              "      <td>0</td>\n",
              "      <td>0.458</td>\n",
              "      <td>6.998</td>\n",
              "      <td>45.8</td>\n",
              "      <td>6.0622</td>\n",
              "      <td>3</td>\n",
              "      <td>222</td>\n",
              "      <td>18.7</td>\n",
              "      <td>394.63</td>\n",
              "      <td>2.94</td>\n",
              "      <td>33.4</td>\n",
              "    </tr>\n",
              "    <tr>\n",
              "      <th>4</th>\n",
              "      <td>0.06905</td>\n",
              "      <td>0.0</td>\n",
              "      <td>2.18</td>\n",
              "      <td>0</td>\n",
              "      <td>0.458</td>\n",
              "      <td>7.147</td>\n",
              "      <td>54.2</td>\n",
              "      <td>6.0622</td>\n",
              "      <td>3</td>\n",
              "      <td>222</td>\n",
              "      <td>18.7</td>\n",
              "      <td>396.90</td>\n",
              "      <td>5.33</td>\n",
              "      <td>36.2</td>\n",
              "    </tr>\n",
              "  </tbody>\n",
              "</table>\n",
              "</div>"
            ],
            "text/plain": [
              "      crim    zn  indus  chas    nox  ...  tax  ptratio       b  lstat  medv\n",
              "0  0.00632  18.0   2.31     0  0.538  ...  296     15.3  396.90   4.98  24.0\n",
              "1  0.02731   0.0   7.07     0  0.469  ...  242     17.8  396.90   9.14  21.6\n",
              "2  0.02729   0.0   7.07     0  0.469  ...  242     17.8  392.83   4.03  34.7\n",
              "3  0.03237   0.0   2.18     0  0.458  ...  222     18.7  394.63   2.94  33.4\n",
              "4  0.06905   0.0   2.18     0  0.458  ...  222     18.7  396.90   5.33  36.2\n",
              "\n",
              "[5 rows x 14 columns]"
            ]
          },
          "metadata": {
            "tags": []
          },
          "execution_count": 4
        }
      ]
    },
    {
      "cell_type": "code",
      "metadata": {
        "id": "PTEvjnfTyVmS",
        "colab": {
          "base_uri": "https://localhost:8080/"
        },
        "outputId": "3c3efb59-0b63-4c11-9a8b-e57241ff4e99"
      },
      "source": [
        "# here's another cool way to get a lot of this info AND MORE\n",
        "df.info() # gives you missing values report too - this is nice complete data\n",
        "\n",
        "# data types, shape, missing values per columm.... pandas rocks..."
      ],
      "execution_count": null,
      "outputs": [
        {
          "output_type": "stream",
          "text": [
            "<class 'pandas.core.frame.DataFrame'>\n",
            "RangeIndex: 506 entries, 0 to 505\n",
            "Data columns (total 14 columns):\n",
            " #   Column   Non-Null Count  Dtype  \n",
            "---  ------   --------------  -----  \n",
            " 0   crim     506 non-null    float64\n",
            " 1   zn       506 non-null    float64\n",
            " 2   indus    506 non-null    float64\n",
            " 3   chas     506 non-null    int64  \n",
            " 4   nox      506 non-null    float64\n",
            " 5   rm       506 non-null    float64\n",
            " 6   age      506 non-null    float64\n",
            " 7   dis      506 non-null    float64\n",
            " 8   rad      506 non-null    int64  \n",
            " 9   tax      506 non-null    int64  \n",
            " 10  ptratio  506 non-null    float64\n",
            " 11  b        506 non-null    float64\n",
            " 12  lstat    506 non-null    float64\n",
            " 13  medv     506 non-null    float64\n",
            "dtypes: float64(11), int64(3)\n",
            "memory usage: 55.5 KB\n"
          ],
          "name": "stdout"
        }
      ]
    },
    {
      "cell_type": "markdown",
      "metadata": {
        "id": "hRSBaBBhs3og"
      },
      "source": [
        "## Data splitting\n",
        "Subset your data into X features and Y target variable for modeling. Convert X and Y to numpy arrays. Then use train_test_split for data splitting (80/20 is very common); don't forget random seed and shuffle."
      ]
    },
    {
      "cell_type": "code",
      "metadata": {
        "id": "lzkycmVc4zvA",
        "colab": {
          "base_uri": "https://localhost:8080/"
        },
        "outputId": "f3b3b9d3-dfb9-4aa8-8852-c01b59d990f0"
      },
      "source": [
        "# one extra step here - we are making up our own problem.\n",
        "# we want to predict if a house price is greater than the median\n",
        "# so i will use a numpy.where() statement to do this\n",
        "df['medv'] = np.where(df['medv'] > df['medv'].median(),\n",
        "                      1, # if true\n",
        "                      0) # if false\n",
        "\n",
        "# check your work - looks good\n",
        "df['medv'].head(n=10)"
      ],
      "execution_count": null,
      "outputs": [
        {
          "output_type": "execute_result",
          "data": {
            "text/plain": [
              "0    1\n",
              "1    1\n",
              "2    1\n",
              "3    1\n",
              "4    1\n",
              "5    1\n",
              "6    1\n",
              "7    1\n",
              "8    0\n",
              "9    0\n",
              "Name: medv, dtype: int64"
            ]
          },
          "metadata": {
            "tags": []
          },
          "execution_count": 6
        }
      ]
    },
    {
      "cell_type": "code",
      "metadata": {
        "id": "K3TFxlOdt1dH",
        "colab": {
          "base_uri": "https://localhost:8080/"
        },
        "outputId": "7b3c2832-417f-415a-8a2c-b3faaf7cc8c9"
      },
      "source": [
        "# the target variable is Y\n",
        "# we know that this is 'medv'\n",
        "Y = df['medv']\n",
        "print(Y.shape) # a single column with 506 rows"
      ],
      "execution_count": null,
      "outputs": [
        {
          "output_type": "stream",
          "text": [
            "(506,)\n"
          ],
          "name": "stdout"
        }
      ]
    },
    {
      "cell_type": "code",
      "metadata": {
        "id": "D_9wf4FFyqr6",
        "colab": {
          "base_uri": "https://localhost:8080/"
        },
        "outputId": "b6310e73-eb7d-4dac-a443-8c2900c7ae84"
      },
      "source": [
        "# everything else is X \n",
        "# so just drop 'medv' and you are done\n",
        "X = df.drop('medv', axis=1)\n",
        "print(X.shape) # note that we have gone from 14 to 13 columns, this is good! 506 rows."
      ],
      "execution_count": null,
      "outputs": [
        {
          "output_type": "stream",
          "text": [
            "(506, 13)\n"
          ],
          "name": "stdout"
        }
      ]
    },
    {
      "cell_type": "code",
      "metadata": {
        "id": "5oPRE8wdzAHm"
      },
      "source": [
        "# now, split the data in ONE LINE OF CODE\n",
        "# notice how we are assigning four different variables at once\n",
        "# this makes it really clean\n",
        "\n",
        "# be careful of capital vs. lowercase X and Y, you might get an error...\n",
        "# notice the 80/20 split we perform\n",
        "\n",
        "X_train, X_test, y_train, y_test = train_test_split(X, Y,\n",
        "                                                    test_size = 0.2,\n",
        "                                                    shuffle = True,\n",
        "                                                    random_state = 42)"
      ],
      "execution_count": null,
      "outputs": []
    },
    {
      "cell_type": "code",
      "metadata": {
        "id": "Oov4jzsfzeaz",
        "colab": {
          "base_uri": "https://localhost:8080/"
        },
        "outputId": "1051a931-d6f6-46c4-b81d-04311b7a5bc1"
      },
      "source": [
        "# check your work - does the shape match what you think it should be?\n",
        "print(X_train.shape, X_test.shape, y_train.shape, y_test.shape)"
      ],
      "execution_count": null,
      "outputs": [
        {
          "output_type": "stream",
          "text": [
            "(404, 13) (102, 13) (404,) (102,)\n"
          ],
          "name": "stdout"
        }
      ]
    },
    {
      "cell_type": "code",
      "metadata": {
        "id": "0B_LcMUm00Hc"
      },
      "source": [
        "# convert these all to numpy arrays\n",
        "X_train = np.array(X_train)\n",
        "X_test = np.array(X_test)\n",
        "y_train = np.array(y_train)\n",
        "y_test = np.array(y_test)"
      ],
      "execution_count": null,
      "outputs": []
    },
    {
      "cell_type": "markdown",
      "metadata": {
        "id": "E5vFxGifuPzF"
      },
      "source": [
        "## Min/Max Scaling\n",
        "This will ensure all of your X data is between 0 (min) and 1 (max). You will use fit_transform() on the train data first, then fit on the test data. If you don't do this step after splitting, you will have data leakage. \n",
        "\n",
        "Only scale the X data, not the Y data!\n",
        "\n",
        "Do yourself a favor and just overwrite X_train and X_test when standardizing, as I do below. Min/max scaling requires that the data are numpy arrays and all numeric data.\n",
        "\n",
        "\n",
        "**Like this example:**\n",
        "```\n",
        "import numpy as np\n",
        "from sklearn.preprocessing import MinMaxScaler\n",
        "\n",
        "scaler = MinMaxScaler()\n",
        "X_train = scaler.fit_transform(X_train)\n",
        "X_test = scaler.transform(X_test)\n",
        "```\n"
      ]
    },
    {
      "cell_type": "code",
      "metadata": {
        "id": "D9KyPXdiujPv"
      },
      "source": [
        "# you probably have already imported the MinMaxScale at the top of your script\n",
        "# you should convert to numpy array before scaling\n",
        "scaler = MinMaxScaler()\n",
        "X_train = scaler.fit_transform(X_train)\n",
        "X_test = scaler.transform(X_test)"
      ],
      "execution_count": null,
      "outputs": []
    },
    {
      "cell_type": "code",
      "metadata": {
        "id": "-4vlQCG01S3E",
        "colab": {
          "base_uri": "https://localhost:8080/",
          "height": 314
        },
        "outputId": "97f9de5f-907c-44f7-a078-908db5bc4896"
      },
      "source": [
        "# if you wanted to run summary stats on these to check the range,\n",
        "# you would need to convert to a pandas dataframe.\n",
        "tmp = pd.DataFrame(X_train)\n",
        "tmp.describe() # notice how all the max values are 1, all min values are 0."
      ],
      "execution_count": null,
      "outputs": [
        {
          "output_type": "execute_result",
          "data": {
            "text/html": [
              "<div>\n",
              "<style scoped>\n",
              "    .dataframe tbody tr th:only-of-type {\n",
              "        vertical-align: middle;\n",
              "    }\n",
              "\n",
              "    .dataframe tbody tr th {\n",
              "        vertical-align: top;\n",
              "    }\n",
              "\n",
              "    .dataframe thead th {\n",
              "        text-align: right;\n",
              "    }\n",
              "</style>\n",
              "<table border=\"1\" class=\"dataframe\">\n",
              "  <thead>\n",
              "    <tr style=\"text-align: right;\">\n",
              "      <th></th>\n",
              "      <th>0</th>\n",
              "      <th>1</th>\n",
              "      <th>2</th>\n",
              "      <th>3</th>\n",
              "      <th>4</th>\n",
              "      <th>5</th>\n",
              "      <th>6</th>\n",
              "      <th>7</th>\n",
              "      <th>8</th>\n",
              "      <th>9</th>\n",
              "      <th>10</th>\n",
              "      <th>11</th>\n",
              "      <th>12</th>\n",
              "    </tr>\n",
              "  </thead>\n",
              "  <tbody>\n",
              "    <tr>\n",
              "      <th>count</th>\n",
              "      <td>404.000000</td>\n",
              "      <td>404.000000</td>\n",
              "      <td>404.000000</td>\n",
              "      <td>404.000000</td>\n",
              "      <td>404.000000</td>\n",
              "      <td>404.000000</td>\n",
              "      <td>404.000000</td>\n",
              "      <td>404.000000</td>\n",
              "      <td>404.000000</td>\n",
              "      <td>404.000000</td>\n",
              "      <td>404.000000</td>\n",
              "      <td>404.000000</td>\n",
              "      <td>404.000000</td>\n",
              "    </tr>\n",
              "    <tr>\n",
              "      <th>mean</th>\n",
              "      <td>0.040465</td>\n",
              "      <td>0.115693</td>\n",
              "      <td>0.379446</td>\n",
              "      <td>0.071782</td>\n",
              "      <td>0.352848</td>\n",
              "      <td>0.498859</td>\n",
              "      <td>0.676173</td>\n",
              "      <td>0.243577</td>\n",
              "      <td>0.363323</td>\n",
              "      <td>0.414184</td>\n",
              "      <td>0.608332</td>\n",
              "      <td>0.897570</td>\n",
              "      <td>0.296009</td>\n",
              "    </tr>\n",
              "    <tr>\n",
              "      <th>std</th>\n",
              "      <td>0.099757</td>\n",
              "      <td>0.231525</td>\n",
              "      <td>0.255356</td>\n",
              "      <td>0.258447</td>\n",
              "      <td>0.242190</td>\n",
              "      <td>0.144285</td>\n",
              "      <td>0.288310</td>\n",
              "      <td>0.193802</td>\n",
              "      <td>0.373466</td>\n",
              "      <td>0.317123</td>\n",
              "      <td>0.237096</td>\n",
              "      <td>0.230890</td>\n",
              "      <td>0.196203</td>\n",
              "    </tr>\n",
              "    <tr>\n",
              "      <th>min</th>\n",
              "      <td>0.000000</td>\n",
              "      <td>0.000000</td>\n",
              "      <td>0.000000</td>\n",
              "      <td>0.000000</td>\n",
              "      <td>0.000000</td>\n",
              "      <td>0.000000</td>\n",
              "      <td>0.000000</td>\n",
              "      <td>0.000000</td>\n",
              "      <td>0.000000</td>\n",
              "      <td>0.000000</td>\n",
              "      <td>0.000000</td>\n",
              "      <td>0.000000</td>\n",
              "      <td>0.000000</td>\n",
              "    </tr>\n",
              "    <tr>\n",
              "      <th>25%</th>\n",
              "      <td>0.000814</td>\n",
              "      <td>0.000000</td>\n",
              "      <td>0.162593</td>\n",
              "      <td>0.000000</td>\n",
              "      <td>0.137860</td>\n",
              "      <td>0.412345</td>\n",
              "      <td>0.439238</td>\n",
              "      <td>0.087140</td>\n",
              "      <td>0.130435</td>\n",
              "      <td>0.175573</td>\n",
              "      <td>0.446809</td>\n",
              "      <td>0.945969</td>\n",
              "      <td>0.139142</td>\n",
              "    </tr>\n",
              "    <tr>\n",
              "      <th>50%</th>\n",
              "      <td>0.002836</td>\n",
              "      <td>0.000000</td>\n",
              "      <td>0.289630</td>\n",
              "      <td>0.000000</td>\n",
              "      <td>0.314815</td>\n",
              "      <td>0.477324</td>\n",
              "      <td>0.770340</td>\n",
              "      <td>0.186066</td>\n",
              "      <td>0.173913</td>\n",
              "      <td>0.272901</td>\n",
              "      <td>0.648936</td>\n",
              "      <td>0.985892</td>\n",
              "      <td>0.253725</td>\n",
              "    </tr>\n",
              "    <tr>\n",
              "      <th>75%</th>\n",
              "      <td>0.035900</td>\n",
              "      <td>0.200000</td>\n",
              "      <td>0.642963</td>\n",
              "      <td>0.000000</td>\n",
              "      <td>0.506173</td>\n",
              "      <td>0.564114</td>\n",
              "      <td>0.934604</td>\n",
              "      <td>0.388400</td>\n",
              "      <td>0.478261</td>\n",
              "      <td>0.914122</td>\n",
              "      <td>0.808511</td>\n",
              "      <td>0.997113</td>\n",
              "      <td>0.404042</td>\n",
              "    </tr>\n",
              "    <tr>\n",
              "      <th>max</th>\n",
              "      <td>1.000000</td>\n",
              "      <td>1.000000</td>\n",
              "      <td>1.000000</td>\n",
              "      <td>1.000000</td>\n",
              "      <td>1.000000</td>\n",
              "      <td>1.000000</td>\n",
              "      <td>1.000000</td>\n",
              "      <td>1.000000</td>\n",
              "      <td>1.000000</td>\n",
              "      <td>1.000000</td>\n",
              "      <td>1.000000</td>\n",
              "      <td>1.000000</td>\n",
              "      <td>1.000000</td>\n",
              "    </tr>\n",
              "  </tbody>\n",
              "</table>\n",
              "</div>"
            ],
            "text/plain": [
              "               0           1           2   ...          10          11          12\n",
              "count  404.000000  404.000000  404.000000  ...  404.000000  404.000000  404.000000\n",
              "mean     0.040465    0.115693    0.379446  ...    0.608332    0.897570    0.296009\n",
              "std      0.099757    0.231525    0.255356  ...    0.237096    0.230890    0.196203\n",
              "min      0.000000    0.000000    0.000000  ...    0.000000    0.000000    0.000000\n",
              "25%      0.000814    0.000000    0.162593  ...    0.446809    0.945969    0.139142\n",
              "50%      0.002836    0.000000    0.289630  ...    0.648936    0.985892    0.253725\n",
              "75%      0.035900    0.200000    0.642963  ...    0.808511    0.997113    0.404042\n",
              "max      1.000000    1.000000    1.000000  ...    1.000000    1.000000    1.000000\n",
              "\n",
              "[8 rows x 13 columns]"
            ]
          },
          "metadata": {
            "tags": []
          },
          "execution_count": 13
        }
      ]
    },
    {
      "cell_type": "markdown",
      "metadata": {
        "id": "SjiD7wWVtT5X"
      },
      "source": [
        "## Fit The Model\n",
        "Fit the model and make new variables to save your train and test predictions. Make sure you are using the appropriate regression or classification model."
      ]
    },
    {
      "cell_type": "code",
      "metadata": {
        "id": "g5_x7INZt02l"
      },
      "source": [
        "# make a variable to store the general model\n",
        "LR = LogisticRegression() # use logistic for a classification problem\n",
        "# fit the model - one line of code\n",
        "LR = LR.fit(X_train, y_train) # always going to be (X_train, y_train)"
      ],
      "execution_count": null,
      "outputs": []
    },
    {
      "cell_type": "code",
      "metadata": {
        "id": "KDWWnOoM12Qu"
      },
      "source": [
        "# store the predictions\n",
        "train_preds = LR.predict(X_train) # same shape as Y_train\n",
        "test_preds = LR.predict(X_test)  # same shape as Y_test"
      ],
      "execution_count": null,
      "outputs": []
    },
    {
      "cell_type": "markdown",
      "metadata": {
        "id": "vRsCK_5Jtb0Z"
      },
      "source": [
        "## Evaluate the Model\n",
        "Look at the appropriate error metrics depending on the problem you are solving. \n",
        "\n",
        "For a regression problem, look at the R2, MAE and MSE; then make a scatterplot of actual vs. predicted values with nice labels and titles.\n",
        "\n",
        "For a classification problem, create the classification report (gives a confusion matrix and useful metrics in one line of code)."
      ]
    },
    {
      "cell_type": "code",
      "metadata": {
        "id": "YB8pPfM75h2T",
        "colab": {
          "base_uri": "https://localhost:8080/"
        },
        "outputId": "9415959f-fe4e-4f0f-b4ee-55d3d9058c84"
      },
      "source": [
        "# this is a classification problem, so we have other ways of\n",
        "# evaluating our model than a regression problem\n",
        "\n",
        "# train results\n",
        "trainResults = classification_report(y_train, train_preds) # (actual, predicted)\n",
        "print(trainResults)"
      ],
      "execution_count": null,
      "outputs": [
        {
          "output_type": "stream",
          "text": [
            "              precision    recall  f1-score   support\n",
            "\n",
            "           0       0.86      0.82      0.84       196\n",
            "           1       0.84      0.87      0.85       208\n",
            "\n",
            "    accuracy                           0.85       404\n",
            "   macro avg       0.85      0.85      0.85       404\n",
            "weighted avg       0.85      0.85      0.85       404\n",
            "\n"
          ],
          "name": "stdout"
        }
      ]
    },
    {
      "cell_type": "code",
      "metadata": {
        "id": "RMgWf6u6DB2X",
        "colab": {
          "base_uri": "https://localhost:8080/"
        },
        "outputId": "8bf3ca7a-6070-47ef-ca19-851107da51f5"
      },
      "source": [
        "# train confusion matrix\n",
        "confusion_matrix(y_train, train_preds)\n",
        "\n",
        "# top left is TN\n",
        "# bottom left is FN\n",
        "# top right is FP\n",
        "# bottom right is TP"
      ],
      "execution_count": null,
      "outputs": [
        {
          "output_type": "execute_result",
          "data": {
            "text/plain": [
              "array([[161,  35],\n",
              "       [ 27, 181]])"
            ]
          },
          "metadata": {
            "tags": []
          },
          "execution_count": 17
        }
      ]
    },
    {
      "cell_type": "code",
      "metadata": {
        "id": "Pz0w11IiCjWz",
        "colab": {
          "base_uri": "https://localhost:8080/"
        },
        "outputId": "47d55aad-d991-4c63-8941-49063ebde37a"
      },
      "source": [
        "# here are tp, tn, fp, fn\n",
        "tn, fp, fn, tp = confusion_matrix(y_train, train_preds).ravel()\n",
        "print(\"TP:\", tp)\n",
        "print(\"TN:\", tn)\n",
        "print(\"FP:\", fp)\n",
        "print(\"FN:\", fn)"
      ],
      "execution_count": null,
      "outputs": [
        {
          "output_type": "stream",
          "text": [
            "TP: 181\n",
            "TN: 161\n",
            "FP: 35\n",
            "FN: 27\n"
          ],
          "name": "stdout"
        }
      ]
    },
    {
      "cell_type": "code",
      "metadata": {
        "id": "hpct_Gnp54mK",
        "colab": {
          "base_uri": "https://localhost:8080/"
        },
        "outputId": "8b589a11-4d4e-487f-cc91-55f8e98538c6"
      },
      "source": [
        "# test results\n",
        "testResults = classification_report(y_test, test_preds)\n",
        "# don't forget to use 'print' otherwise it looks goofy\n",
        "print(testResults)"
      ],
      "execution_count": null,
      "outputs": [
        {
          "output_type": "stream",
          "text": [
            "              precision    recall  f1-score   support\n",
            "\n",
            "           0       0.89      0.85      0.87        60\n",
            "           1       0.80      0.86      0.83        42\n",
            "\n",
            "    accuracy                           0.85       102\n",
            "   macro avg       0.85      0.85      0.85       102\n",
            "weighted avg       0.86      0.85      0.85       102\n",
            "\n"
          ],
          "name": "stdout"
        }
      ]
    },
    {
      "cell_type": "code",
      "metadata": {
        "id": "iuanuEaKC6qW",
        "colab": {
          "base_uri": "https://localhost:8080/"
        },
        "outputId": "f38187cb-4b6c-4f55-bbb6-6b5f010ee256"
      },
      "source": [
        "# test confusion matrix\n",
        "confusion_matrix(y_test, test_preds)\n",
        "\n",
        "# top left is TN\n",
        "# bottom left is FN\n",
        "# top right is FP\n",
        "# bottom right is TP"
      ],
      "execution_count": null,
      "outputs": [
        {
          "output_type": "execute_result",
          "data": {
            "text/plain": [
              "array([[51,  9],\n",
              "       [ 6, 36]])"
            ]
          },
          "metadata": {
            "tags": []
          },
          "execution_count": 20
        }
      ]
    },
    {
      "cell_type": "code",
      "metadata": {
        "id": "tM8x1xzNC1zL",
        "colab": {
          "base_uri": "https://localhost:8080/"
        },
        "outputId": "6f3bc733-97f4-4344-831b-6e0c8ef37f43"
      },
      "source": [
        "# here are tp, tn, fp, fn\n",
        "tn, fp, fn, tp = confusion_matrix(y_test, test_preds).ravel()\n",
        "print(\"TP:\", tp)\n",
        "print(\"TN:\", tn)\n",
        "print(\"FP:\", fp)\n",
        "print(\"FN:\", fn)"
      ],
      "execution_count": null,
      "outputs": [
        {
          "output_type": "stream",
          "text": [
            "TP: 36\n",
            "TN: 51\n",
            "FP: 9\n",
            "FN: 6\n"
          ],
          "name": "stdout"
        }
      ]
    },
    {
      "cell_type": "markdown",
      "metadata": {
        "id": "h-4AbBzY3wSJ"
      },
      "source": [
        "# Done!\n",
        "You have just completed a very simple ML framework for classification modeling. Even though you used a simple logistic regression, you still got great results. \n",
        "\n",
        "Later on, you will expand on these topics and start fitting multiple models, and may start tweaking them ('hyperparameter tuning') to get even better peformance. Sit tight!"
      ]
    }
  ]
}